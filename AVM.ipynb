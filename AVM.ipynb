{
 "cells": [
  {
   "cell_type": "code",
   "execution_count": null,
   "metadata": {},
   "outputs": [],
   "source": [
    "import random\n",
    "\n",
    "class Particle:\n",
    "    def __init__(self, x, y):\n",
    "        self.x = x\n",
    "        self.y = y\n",
    "\n",
    "    def move(self):\n",
    "        self.x += random.uniform(-1, 1)\n",
    "        self.y += random.uniform(-1, 1)\n",
    "\n",
    "    def distance_to(self, other):\n",
    "        return ((self.x - other.x) ** 2 + (self.y - other.y) ** 2) ** 0.5\n",
    "\n",
    "class Crystal:\n",
    "    def __init__(self, seed_x, seed_y):\n",
    "        self.particles = [Particle(seed_x, seed_y)]\n",
    "\n",
    "    def add_particle(self, particle):\n",
    "        self.particles.append(particle)\n",
    "\n",
    "    def is_particle_near(self, particle):\n",
    "        for p in self.particles:\n",
    "            if particle.distance_to(p) < 1:\n",
    "                return True\n",
    "        return False\n",
    "\n",
    "def simulate_crystal_growth(num_particles):\n",
    "    crystal = Crystal(0, 0)\n",
    "    particles = [Particle(random.uniform(-10, 10), random.uniform(-10, 10)) for _ in range(num_particles)]\n",
    "    while particles:\n",
    "        for p in particles:\n",
    "            p.move()\n",
    "            if crystal.is_particle_near(p):\n",
    "                crystal.add_particle(p)\n",
    "                particles.remove(p)\n",
    "                break\n",
    "    return crystal\n",
    "\n",
    "crystal = simulate_crystal_growth(100)\n",
    "print(len(crystal.particles))"
   ]
  }
 ],
 "metadata": {
  "language_info": {
   "name": "python"
  },
  "orig_nbformat": 4
 },
 "nbformat": 4,
 "nbformat_minor": 2
}
