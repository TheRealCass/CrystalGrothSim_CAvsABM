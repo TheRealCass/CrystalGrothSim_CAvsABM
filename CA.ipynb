{
 "cells": [
  {
   "cell_type": "code",
   "execution_count": 250,
   "metadata": {},
   "outputs": [],
   "source": [
    "import numpy as math_library\n",
    "import matplotlib.pyplot as plotter\n",
    "from matplotlib.colors import ListedColormap as colour_chooser\n"
   ]
  },
  {
   "cell_type": "code",
   "execution_count": 251,
   "metadata": {},
   "outputs": [],
   "source": [
    "#constants\n",
    "GRID_SIZE = 100\n",
    "DENSITY = .25 #percentage of particles in the solution by volume\n",
    "RUN_CYCLE = 100"
   ]
  },
  {
   "cell_type": "code",
   "execution_count": 252,
   "metadata": {},
   "outputs": [],
   "source": [
    "#creating the grid\n",
    "row_count = col_count = int(GRID_SIZE/2)\n",
    "grid = math_library.zeros((row_count, col_count))\n",
    "for i in range(row_count):\n",
    "        for j in range(col_count):\n",
    "            # If the random number is greater than the empty ratio, assign an agent to the cell\n",
    "            if math_library.random.random() < DENSITY:\n",
    "                grid[i][j] = 1\n",
    "\n",
    "grid[int(row_count/2)][int(col_count/2)] = 2 #place impurity"
   ]
  },
  {
   "cell_type": "code",
   "execution_count": 253,
   "metadata": {},
   "outputs": [],
   "source": [
    "for time in range (RUN_CYCLE):\n",
    "    for i in range(row_count):\n",
    "        for j in range(col_count):\n",
    "               if grid[i][j] == 1:\n",
    "                    for x, y in ((i-1, j), (i+1, j), (i, j-1), (i, j+1)):\n",
    "                        if 0 <= x < row_count and 0 <= y < col_count and grid[x][y] == 0:\n",
    "                            grid[x][y] = 1\n",
    "                            grid[i][j] = 0\n",
    "                            for a, b in ((x-1, y), (x+1, y), (x, y-1), (x, y+1)):\n",
    "                                if 0 <= a < row_count and 0 <= b < col_count and grid[a][b] == 2:\n",
    "                                    grid[x][y] = 2\n",
    "                                    break\n",
    "\n"
   ]
  },
  {
   "cell_type": "code",
   "execution_count": 254,
   "metadata": {},
   "outputs": [
    {
     "data": {
      "image/png": "[encoded data removed]",
      "text/plain": [
       "<Figure size 640x480 with 1 Axes>"
      ]
     },
     "metadata": {},
     "output_type": "display_data"
    }
   ],
   "source": [
    "#plotting the grid\n",
    "\n",
    "colors = [\"black\", \"blue\", \"red\"] # setting the colours array according to the global variables\n",
    "cmap = colour_chooser(colors)\n",
    "plotter.imshow(grid, cmap = cmap, interpolation= 'nearest')\n",
    "plotter.show()"
   ]
  },
  {
   "cell_type": "code",
   "execution_count": null,
   "metadata": {},
   "outputs": [],
   "source": []
  },
  {
   "cell_type": "code",
   "execution_count": null,
   "metadata": {},
   "outputs": [],
   "source": []
  },
  {
   "cell_type": "code",
   "execution_count": null,
   "metadata": {},
   "outputs": [],
   "source": []
  },
  {
   "cell_type": "code",
   "execution_count": null,
   "metadata": {},
   "outputs": [],
   "source": []
  },
  {
   "cell_type": "code",
   "execution_count": 255,
   "metadata": {},
   "outputs": [
    {
     "data": {
      "image/png": "[encoded data removed]",
      "text/plain": [
       "<Figure size 640x480 with 1 Axes>"
      ]
     },
     "metadata": {},
     "output_type": "display_data"
    }
   ],
   "source": [
    "import random\n",
    "import matplotlib.pyplot as plt\n",
    "\n",
    "# Define the grid size and number of particles\n",
    "grid_size = 100\n",
    "num_particles = 75\n",
    "# Define the states\n",
    "EMPTY = 0\n",
    "PARTICLE = 1\n",
    "CRYSTAL = 2\n",
    "\n",
    "# Initialize the grid\n",
    "grid = [[EMPTY for x in range(grid_size)] for y in range(grid_size)]\n",
    "\n",
    "# Scatter particles randomly\n",
    "for i in range(num_particles):\n",
    "    x = random.randint(0, grid_size-1)\n",
    "    y = random.randint(0, grid_size-1)\n",
    "    grid[x][y] = PARTICLE\n",
    "\n",
    "# Place the seed\n",
    "grid[grid_size//2][grid_size//2] = CRYSTAL\n",
    "\n",
    "# Define the update function\n",
    "def update(grid):\n",
    "    # Create a copy of the grid to update\n",
    "    new_grid = [row[:] for row in grid]\n",
    "    # Loop over all cells in the grid\n",
    "    for x in range(grid_size):\n",
    "        for y in range(grid_size):\n",
    "            # If the cell contains a particle\n",
    "            if grid[x][y] == PARTICLE:\n",
    "                # Move particle\n",
    "                dx = random.randint(-1, 1)\n",
    "                dy = random.randint(-1, 1)\n",
    "                new_x = (x + dx) % grid_size\n",
    "                new_y = (y + dy) % grid_size\n",
    "                # If the new cell is empty, move the particle there\n",
    "                if new_grid[new_x][new_y] == EMPTY:\n",
    "                    new_grid[new_x][new_y] = PARTICLE\n",
    "                    new_grid[x][y] = EMPTY\n",
    "                # Check for crystal formation\n",
    "                for dx in [-1, 0, 1]:\n",
    "                    for dy in [-1, 0, 1]:\n",
    "                        if dx == dy == 0:\n",
    "                            continue\n",
    "                        new_x = (x + dx) % grid_size\n",
    "                        new_y = (y + dy) % grid_size\n",
    "                        # If a neighboring cell is a crystal, turn this cell into a crystal as well\n",
    "                        if grid[new_x][new_y] == CRYSTAL:\n",
    "                            new_grid[x][y] = CRYSTAL\n",
    "    return new_grid\n",
    "\n",
    "# Run the simulation for a fixed number of steps\n",
    "num_steps = 1000\n",
    "for step in range(num_steps):\n",
    "    # Update the grid at each time step\n",
    "    grid = update(grid)\n",
    "\n",
    "\n",
    "plt.imshow(grid)\n",
    "plt.show()"
   ]
  },
  {
   "cell_type": "code",
   "execution_count": 259,
   "metadata": {},
   "outputs": [],
   "source": [
    "import random\n",
    "import imageio\n",
    "import numpy as np\n",
    "\n",
    "# Define the grid size and number of particles\n",
    "grid_size = 1000\n",
    "num_particles = 75000\n",
    "\n",
    "# Define the states\n",
    "EMPTY = 0\n",
    "PARTICLE = 1\n",
    "CRYSTAL = 2\n",
    "\n",
    "# Initialize the grid\n",
    "grid = [[EMPTY for x in range(grid_size)] for y in range(grid_size)]\n",
    "\n",
    "# Scatter particles randomly\n",
    "for i in range(num_particles):\n",
    "    x = random.randint(0, grid_size-1)\n",
    "    y = random.randint(0, grid_size-1)\n",
    "    grid[x][y] = PARTICLE\n",
    "\n",
    "# Place the seed\n",
    "grid[grid_size//2][grid_size//2] = CRYSTAL\n",
    "\n",
    "# Define the update function\n",
    "def update(grid):\n",
    "    # Create a copy of the grid to update\n",
    "    new_grid = [row[:] for row in grid]\n",
    "    # Loop over all cells in the grid\n",
    "    for x in range(grid_size):\n",
    "        for y in range(grid_size):\n",
    "            # If the cell contains a particle\n",
    "            if grid[x][y] == PARTICLE:\n",
    "                # Move particle\n",
    "                dx = random.randint(-1, 1)\n",
    "                dy = random.randint(-1, 1)\n",
    "                new_x = (x + dx) % grid_size\n",
    "                new_y = (y + dy) % grid_size\n",
    "                # If the new cell is empty, move the particle there\n",
    "                if new_grid[new_x][new_y] == EMPTY:\n",
    "                    new_grid[new_x][new_y] = PARTICLE\n",
    "                    new_grid[x][y] = EMPTY\n",
    "                # Check for crystal formation\n",
    "                for dx in [-1, 0, 1]:\n",
    "                    for dy in [-1, 0, 1]:\n",
    "                        if dx == dy == 0:\n",
    "                            continue\n",
    "                        new_x = (x + dx) % grid_size\n",
    "                        new_y = (y + dy) % grid_size\n",
    "                        # If a neighboring cell is a crystal, turn this cell into a crystal as well\n",
    "                        if grid[new_x][new_y] == CRYSTAL:\n",
    "                            new_grid[x][y] = CRYSTAL\n",
    "    return new_grid\n",
    "\n",
    "# Define a function to generate an image from the grid\n",
    "def generate_image(grid):\n",
    "    image = np.zeros((grid_size, grid_size, 3), dtype=np.uint8)\n",
    "    for x in range(grid_size):\n",
    "        for y in range(grid_size):\n",
    "            if grid[x][y] == PARTICLE:\n",
    "                image[x,y] = [255, 255, 255]\n",
    "            elif grid[x][y] == CRYSTAL:\n",
    "                image[x,y] = [255, 0, 0]\n",
    "    return image\n",
    "\n",
    "# Run the simulation and generate an animated GIF\n",
    "num_steps = 10000\n",
    "images = []\n",
    "for step in range(num_steps):\n",
    "    # Update the grid at each time step\n",
    "    grid = update(grid)\n",
    "    # Generate an image of the current state of the grid and add it to the list of images\n",
    "    image = generate_image(grid)\n",
    "    images.append(image)\n",
    "\n",
    "# Save the list of images as an animated GIF\n",
    "imageio.mimsave('animation.gif', images)"
   ]
  }
 ],
 "metadata": {
  "kernelspec": {
   "display_name": "base",
   "language": "python",
   "name": "python3"
  },
  "language_info": {
   "codemirror_mode": {
    "name": "ipython",
    "version": 3
   },
   "file_extension": ".py",
   "mimetype": "text/x-python",
   "name": "python",
   "nbconvert_exporter": "python",
   "pygments_lexer": "ipython3",
   "version": "3.9.13"
  },
  "orig_nbformat": 4
 },
 "nbformat": 4,
 "nbformat_minor": 2
}
