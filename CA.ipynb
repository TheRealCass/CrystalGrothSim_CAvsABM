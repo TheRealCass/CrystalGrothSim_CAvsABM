{
 "cells": [
  {
   "cell_type": "code",
   "execution_count": null,
   "metadata": {},
   "outputs": [],
   "source": [
    "import random\n",
    "\n",
    "GRID_SIZE = 100\n",
    "NUM_PARTICLES = 1000\n",
    "EMPTY = 0\n",
    "CRYSTAL = 1\n",
    "PARTICLE = 2\n",
    "\n",
    "def simulate_crystal_growth(grid):\n",
    "    grid[GRID_SIZE // 2][GRID_SIZE // 2] = CRYSTAL\n",
    "    for _ in range(NUM_PARTICLES):\n",
    "        x = random.randint(0, GRID_SIZE - 1)\n",
    "        y = random.randint(0, GRID_SIZE - 1)\n",
    "        while grid[x][y] != CRYSTAL:\n",
    "            grid[x][y] = PARTICLE\n",
    "            direction = random.randint(0, 3)\n",
    "            grid[x][y] = EMPTY\n",
    "            if direction == 0:\n",
    "                x = (x + 1) % GRID_SIZE\n",
    "            elif direction == 1:\n",
    "                x = (x - 1 + GRID_SIZE) % GRID_SIZE\n",
    "            elif direction == 2:\n",
    "                y = (y + 1) % GRID_SIZE\n",
    "            else:\n",
    "                y = (y - 1 + GRID_SIZE) % GRID_SIZE\n",
    "            if is_next_to_crystal(grid, x, y):\n",
    "                grid[x][y] = CRYSTAL\n",
    "                break\n",
    "\n",
    "def is_next_to_crystal(grid, x, y):\n",
    "    return grid[(x + 1) % GRID_SIZE][y] == CRYSTAL or \\\n",
    "           grid[(x - 1 + GRID_SIZE) % GRID_SIZE][y] == CRYSTAL or \\\n",
    "           grid[x][(y + 1) % GRID_SIZE] == CRYSTAL or \\\n",
    "           grid[x][(y - 1 + GRID_SIZE) % GRID_SIZE] == CRYSTAL\n",
    "\n",
    "def print_grid(grid):\n",
    "    for i in range(GRID_SIZE):\n",
    "        for j in range(GRID_SIZE):\n",
    "            if grid[i][j] == CRYSTAL:\n",
    "                print(\"#\", end=\"\")\n",
    "            elif grid[i][j] == PARTICLE:\n",
    "                print(\"*\", end=\"\")\n",
    "            else:\n",
    "                print(\" \", end=\"\")\n",
    "        print()\n",
    "\n",
    "grid = [[EMPTY for _ in range(GRID_SIZE)] for _ in range(GRID_SIZE)]\n",
    "simulate_crystal_growth(grid)\n",
    "print_grid(grid)"
   ]
  }
 ],
 "metadata": {
  "language_info": {
   "name": "python"
  },
  "orig_nbformat": 4
 },
 "nbformat": 4,
 "nbformat_minor": 2
}
